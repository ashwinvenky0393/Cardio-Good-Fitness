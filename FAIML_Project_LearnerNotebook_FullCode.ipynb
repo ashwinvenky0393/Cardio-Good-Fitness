{
  "cells": [
    {
      "cell_type": "markdown",
      "metadata": {
        "id": "CdBulD298pUk"
      },
      "source": [
        "# **Project Fundamentals of AIML: Cardio Good Fitness Data Analysis**\n",
        "**Marks: 40**"
      ]
    },
    {
      "cell_type": "markdown",
      "metadata": {
        "id": "8R2lQ8pF9NDE"
      },
      "source": [
        "## **Context**\n",
        "\n",
        "Cardio Good Fitness is a leading manufacturer of high-quality treadmills. The company offers three main products: the TM195, the TM498, and the TM798, which is their flagship product. With the rising demand for fitness in the market and an increasing number of competitors, Cardio Good Fitness wants to gain a better understanding of its existing customer profiles in order to develop more targeted marketing and product development strategies. They believe this will allow them to meet the needs and preferences of their customers, increase customer satisfaction, and drive revenue growth.\n",
        "\n",
        "<br>\n",
        "\n",
        "## **Objective**\n",
        "\n",
        "In order to gain insights into its customer profiles, Cardio Good Fitness has collected demographic and product usage information for each of its customers. The dataset includes variables such as age, gender, income, and miles run on the treadmill for each of the three products.\n",
        "\n",
        "Suppose you are hired as a Data Scientist in this company and the Data Science team has shared the data with you. The requirement is to analyze the data and identify patterns in product usage and the key characteristics of customers by conducting exploratory data analysis (EDA) to come up with customer profiles.\n",
        "\n",
        "The goal is to answer key questions such as:\n",
        "\n",
        "* What are the key characteristics of customers who purchase each product?\n",
        "* How does product usage vary by each group?\n",
        "\n",
        "<br>\n",
        "\n",
        "## **Data Description**\n",
        "\n",
        "The data is about customers of the treadmill product(s) of a retail store called Cardio Good Fitness. It contains the following variables-\n",
        "\n",
        "\n",
        "* Product - The model no. of the treadmill\n",
        "* Age -  Age of the customer in no of years\n",
        "* Gender - Gender of the customer\n",
        "* Education - Education of the customer in no. of years\n",
        "* Marital Status - Marital status of the customer\n",
        "* Usage - Avg. number of times the customer wants to use the treadmill every week\n",
        "* Fitness - Self rated fitness score of the customer (5 - very fit, 1 - very unfit)\n",
        "* Income - Income of the customer\n",
        "* Miles- Miles that a customer expects to run"
      ]
    },
    {
      "cell_type": "markdown",
      "metadata": {
        "id": "sP7V6gzh-B80"
      },
      "source": [
        "### Let us start by importing the required libraries - "
      ]
    },
    {
      "cell_type": "code",
      "execution_count": null,
      "metadata": {
        "id": "sdGWTlsw-GfL"
      },
      "outputs": [],
      "source": [
        "# import libraries for data manipulation\n",
        "import numpy as np\n",
        "import pandas as pd\n",
        "\n",
        "# import libraries for data visualization\n",
        "import matplotlib.pyplot as plt\n",
        "import seaborn as sns"
      ]
    },
    {
      "cell_type": "markdown",
      "metadata": {
        "id": "Gdj-GeuM-Tk7"
      },
      "source": [
        "### Understanding the structure of the data"
      ]
    },
    {
      "cell_type": "code",
      "execution_count": null,
      "metadata": {
        "id": "jEmsK9hN-Zil"
      },
      "outputs": [],
      "source": [
        "# uncomment and run the following lines for Google Colab\n",
        "# from google.colab import drive\n",
        "# drive.mount('/content/drive')"
      ]
    },
    {
      "cell_type": "code",
      "execution_count": null,
      "metadata": {
        "id": "qL6Hqtb4-rkB"
      },
      "outputs": [],
      "source": [
        "# read the data\n",
        "df = pd.read_csv('CardioGoodFitness.csv')"
      ]
    },
    {
      "cell_type": "code",
      "execution_count": null,
      "metadata": {
        "id": "kgV_hcrE-3RL"
      },
      "outputs": [],
      "source": [
        "# copying data to another variable to avoid any changes to original data\n",
        "cardio = df.copy()"
      ]
    },
    {
      "cell_type": "code",
      "execution_count": null,
      "metadata": {
        "id": "3mSVFOJy_DxC"
      },
      "outputs": [],
      "source": [
        "# returns the first 5 rows\n",
        "cardio.head()"
      ]
    },
    {
      "cell_type": "markdown",
      "metadata": {
        "id": "RbbunXKC_OiL"
      },
      "source": [
        "#### Observations:\n",
        "\n",
        "The DataFrame has 9 columns as mentioned in the Data Dictionary. Data in each row corresponds to the product purchased by a customer."
      ]
    },
    {
      "cell_type": "markdown",
      "metadata": {
        "id": "CMljo_6U__AA"
      },
      "source": [
        "### **Question 1:** How many rows and columns are present in the data? [0.5 mark]"
      ]
    },
    {
      "cell_type": "code",
      "execution_count": null,
      "metadata": {
        "id": "oH2bvIOaAEew"
      },
      "outputs": [],
      "source": [
        "# Write your code here"
      ]
    },
    {
      "cell_type": "markdown",
      "metadata": {
        "id": "uDP6tHUWAJHg"
      },
      "source": [
        "#### Observations: [Write your observation(s) here]"
      ]
    },
    {
      "cell_type": "markdown",
      "metadata": {
        "id": "K_lbU7GmAZPw"
      },
      "source": [
        "### **Question 2:** What are the datatypes of the different columns in the dataset? (The info() function can be used) [0.5 mark]"
      ]
    },
    {
      "cell_type": "code",
      "execution_count": null,
      "metadata": {
        "id": "ZHKY-0SeAgJX"
      },
      "outputs": [],
      "source": [
        "# Write your code here"
      ]
    },
    {
      "cell_type": "markdown",
      "metadata": {
        "id": "DdoBL6JsAi1_"
      },
      "source": [
        "#### Observations: [Write your observation(s) here]"
      ]
    },
    {
      "cell_type": "markdown",
      "metadata": {
        "id": "Ug6W6iUVCZee"
      },
      "source": [
        "### **Question 3:** Write a code to convert the data type of the object type variables to the 'categorical' type to reduce memory usage. [0.5 mark]\n"
      ]
    },
    {
      "cell_type": "code",
      "execution_count": null,
      "metadata": {
        "id": "JKQDBfSIC6qU"
      },
      "outputs": [],
      "source": [
        "# Write your code here"
      ]
    },
    {
      "cell_type": "markdown",
      "metadata": {
        "id": "b0a_QdqvAlWX"
      },
      "source": [
        "### **Question 4:** Are there any missing values in the data? If yes, treat them using an appropriate method. [0.5 mark]"
      ]
    },
    {
      "cell_type": "code",
      "execution_count": null,
      "metadata": {
        "id": "5bv7OtYRAxpo"
      },
      "outputs": [],
      "source": [
        "# Write your code here"
      ]
    },
    {
      "cell_type": "markdown",
      "metadata": {
        "id": "7iJZWxmRDOes"
      },
      "source": [
        "#### Observations: [Write your observation(s) here]"
      ]
    },
    {
      "cell_type": "markdown",
      "metadata": {
        "id": "9m0dHr6DDYZ1"
      },
      "source": [
        "### **Question 5:** Check the statistical summary of the data. Which product type has had the highest number of sales? [1 marks]"
      ]
    },
    {
      "cell_type": "code",
      "execution_count": null,
      "metadata": {
        "id": "HC2j_D7QD8a7"
      },
      "outputs": [],
      "source": [
        "# Write your code here"
      ]
    },
    {
      "cell_type": "markdown",
      "metadata": {
        "id": "XEq4WrDWD_wy"
      },
      "source": [
        "#### Observations: [Write your observation(s) here]"
      ]
    },
    {
      "cell_type": "markdown",
      "metadata": {
        "id": "12EdtgljGeDo"
      },
      "source": [
        "## **Exploratory Data Analysis (EDA)**"
      ]
    },
    {
      "cell_type": "markdown",
      "metadata": {
        "id": "fc6caAAYGpAP"
      },
      "source": [
        "### **Univariate Analysis**"
      ]
    },
    {
      "cell_type": "markdown",
      "metadata": {
        "id": "ME8GIIcYG6W-"
      },
      "source": [
        "### **Question 6:** Explore all the variables and provide observations on their distributions. (Generally, histograms, boxplots, countplots, etc. are used for univariate exploration.) [6 marks]"
      ]
    },
    {
      "cell_type": "code",
      "execution_count": null,
      "metadata": {
        "id": "5GviFtyuG_Jp"
      },
      "outputs": [],
      "source": [
        "# Write your code here"
      ]
    },
    {
      "cell_type": "markdown",
      "metadata": {
        "id": "YbRfLjpRHCTG"
      },
      "source": [
        "#### Observations: [Write your observation(s) here]"
      ]
    },
    {
      "cell_type": "markdown",
      "metadata": {
        "id": "4Wti4ZrgLOV0"
      },
      "source": [
        "### **Bivariate and Multivariate Analysis**"
      ]
    },
    {
      "cell_type": "markdown",
      "metadata": {
        "id": "uYTJZ7AXLVYJ"
      },
      "source": [
        "### **Question 7:** Perform bivariate and multivariate analysis to explore relationships between the important variables in the dataset. (It is a good idea to explore relations between numerical variables as well as relations between numerical and categorical variables) [12 marks]"
      ]
    },
    {
      "cell_type": "code",
      "execution_count": null,
      "metadata": {
        "id": "nR4gCBpiLjm6"
      },
      "outputs": [],
      "source": [
        "# Write your code here"
      ]
    },
    {
      "cell_type": "markdown",
      "metadata": {
        "id": "wdVFRCy5Lus7"
      },
      "source": [
        "### Observations: [Write your observation(s) here]"
      ]
    },
    {
      "cell_type": "markdown",
      "source": [
        "### **Question 8:** Group the data for each product to build customer profiles and summarize the key characteristics of the customers based on the statistical summary.  [3 marks]"
      ],
      "metadata": {
        "id": "smkFzMYfHbYV"
      }
    },
    {
      "cell_type": "code",
      "source": [
        "# Write your code here"
      ],
      "metadata": {
        "id": "IBiYTlnTHd68"
      },
      "execution_count": null,
      "outputs": []
    },
    {
      "cell_type": "markdown",
      "metadata": {
        "id": "oEViLymYSdUY"
      },
      "source": [
        "### **Question 9:** Summarize the key characteristics of each product based on the analysis performed. What recommendations would you like to share to help improve the business? [6 marks]"
      ]
    },
    {
      "cell_type": "markdown",
      "metadata": {
        "id": "nhyjge7SMeWw"
      },
      "source": [
        "#### **Conclusion:**\n",
        "[Write a conclusion below of the analysis you have perfomred]\n",
        "\n",
        "*   \n",
        "*  "
      ]
    },
    {
      "cell_type": "markdown",
      "metadata": {
        "id": "SV_Mw_xPL8y5"
      },
      "source": [
        "#### **Recommendations:**\n",
        "[Write your recommendations for the treadmill company below. You can add as many as you want]\n",
        "\n",
        "*   \n",
        "*  \n",
        "\n"
      ]
    }
  ],
  "metadata": {
    "colab": {
      "provenance": []
    },
    "kernelspec": {
      "display_name": "Python 3",
      "language": "python",
      "name": "python3"
    },
    "language_info": {
      "codemirror_mode": {
        "name": "ipython",
        "version": 3
      },
      "file_extension": ".py",
      "mimetype": "text/x-python",
      "name": "python",
      "nbconvert_exporter": "python",
      "pygments_lexer": "ipython3",
      "version": "3.7.3"
    }
  },
  "nbformat": 4,
  "nbformat_minor": 0
}